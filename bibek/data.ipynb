{
 "cells": [
  {
   "cell_type": "code",
   "execution_count": 3,
   "metadata": {},
   "outputs": [
    {
     "name": "stdout",
     "output_type": "stream",
     "text": [
      "{\"CO\": {\"concentration\": 707.63, \"aqi\": 8}, \"NO2\": {\"concentration\": 2.51, \"aqi\": 3}, \"O3\": {\"concentration\": 43.27, \"aqi\": 36}, \"SO2\": {\"concentration\": 0.16, \"aqi\": 0}, \"PM2.5\": {\"concentration\": 6.94, \"aqi\": 22}, \"PM10\": {\"concentration\": 7.37, \"aqi\": 6}, \"overall_aqi\": 36}\n"
     ]
    }
   ],
   "source": [
    "import requests\n",
    "import os\n",
    "city = 'nepalgunj'\n",
    "api_Key = os.getenv('Api_Key')\n",
    "api_url = 'https://api.api-ninjas.com/v1/airquality?city={}'.format(city)\n",
    "response = requests.get(api_url, headers={'X-Api-Key': api_Key})\n",
    "if response.status_code == requests.codes.ok:\n",
    "    print(response.text)\n",
    "else:\n",
    "    print(\"Error:\", response.status_code, response.text)\n"
   ]
  },
  {
   "cell_type": "code",
   "execution_count": 1,
   "metadata": {},
   "outputs": [],
   "source": [
    "import matplotlib.pyplot as plt\n",
    "%matplotlib inline"
   ]
  },
  {
   "cell_type": "code",
   "execution_count": null,
   "metadata": {},
   "outputs": [],
   "source": [
    "import pandas as pd\n",
    "import numpy as np\n",
    "from sklearn.model_selection import train_test_split\n",
    "from sklearn.preprocessing import StandardScaler\n",
    "from tensorflow.keras.models import Sequential\n",
    "from tensorflow.keras.layers import LSTM, Dense, Dropout\n",
    "from tensorflow.keras.optimizers import Adam\n",
    "\n",
    "# Assume we have a CSV file with all the data\n",
    "def load_and_preprocess_data(file_path):\n",
    "    # Load the data\n",
    "    df = pd.read_csv(file_path)\n",
    "    \n",
    "    # Convert date to datetime and extract relevant features\n",
    "    df['Date'] = pd.to_datetime(df['Date'])\n",
    "    df['DayOfWeek'] = df['Date'].dt.dayofweek\n",
    "    df['Month'] = df['Date'].dt.month\n",
    "    \n",
    "    # One-hot encode categorical variables (like weather conditions)\n",
    "    df = pd.get_dummies(df, columns=['WeatherCondition'])\n",
    "    \n",
    "    return df\n",
    "\n",
    "def create_sequences(data, sequence_length):\n",
    "    X, y = [], []\n",
    "    for i in range(len(data) - sequence_length):\n",
    "        X.append(data[i:(i + sequence_length)])\n",
    "        y.append(data[i + sequence_length])\n",
    "    return np.array(X), np.array(y)\n",
    "\n",
    "def build_model(input_shape):\n",
    "    model = Sequential([\n",
    "        LSTM(64, activation='relu', input_shape=input_shape, return_sequences=True),\n",
    "        Dropout(0.2),\n",
    "        LSTM(32, activation='relu'),\n",
    "        Dropout(0.2),\n",
    "        Dense(6)  # Predict 6 air quality parameters\n",
    "    ])\n",
    "    model.compile(optimizer=Adam(learning_rate=0.001), loss='mse')\n",
    "    return model\n",
    "\n",
    "# Load and preprocess the data\n",
    "df = load_and_preprocess_data('air_quality_data.csv')\n",
    "\n",
    "# Select features for the model\n",
    "features = ['PM2.5', 'PM10', 'NO2', 'SO2', 'CO', 'O3', \n",
    "            'VehicleCount', 'AverageSpeed', 'IndustrialEmission', 'OperationalHours',\n",
    "            'DayOfWeek', 'Month'] + [col for col in df.columns if col.startswith('WeatherCondition_')]\n",
    "\n",
    "# Normalize the data\n",
    "scaler = StandardScaler()\n",
    "df_scaled = pd.DataFrame(scaler.fit_transform(df[features]), columns=features)\n",
    "\n",
    "# Create sequences\n",
    "sequence_length = 7  # Use one week of data to predict the next\n",
    "X, y = create_sequences(df_scaled.values, sequence_length)\n",
    "\n",
    "# Split the data\n",
    "X_train, X_test, y_train, y_test = train_test_split(X, y, test_size=0.2, random_state=42)\n",
    "\n",
    "# Build and train the model\n",
    "model = build_model((X.shape[1], X.shape[2]))\n",
    "history = model.fit(X_train, y_train, epochs=50, batch_size=32, validation_split=0.2, verbose=1)\n",
    "\n",
    "# Function to predict next week's air quality\n",
    "def predict_next_week(model, last_week_data):\n",
    "    # Ensure last_week_data is scaled and in the correct shape\n",
    "    prediction = model.predict(np.array([last_week_data]))\n",
    "    # Inverse transform the prediction to get actual values\n",
    "    return scaler.inverse_transform(prediction)[0][:6]  # Return only air quality parameters\n",
    "\n",
    "# Example usage:\n",
    "# last_week_data = df_scaled.iloc[-7:].values\n",
    "# next_week_prediction = predict_next_week(model, last_week_data)\n",
    "# print(\"Predicted air quality for next week:\", next_week_prediction)"
   ]
  }
 ],
 "metadata": {
  "kernelspec": {
   "display_name": "Python 3",
   "language": "python",
   "name": "python3"
  },
  "language_info": {
   "codemirror_mode": {
    "name": "ipython",
    "version": 3
   },
   "file_extension": ".py",
   "mimetype": "text/x-python",
   "name": "python",
   "nbconvert_exporter": "python",
   "pygments_lexer": "ipython3",
   "version": "3.12.1"
  }
 },
 "nbformat": 4,
 "nbformat_minor": 2
}
