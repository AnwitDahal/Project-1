{
 "cells": [
  {
   "cell_type": "code",
   "execution_count": 3,
   "metadata": {},
   "outputs": [
    {
     "name": "stdout",
     "output_type": "stream",
     "text": [
      "{\"CO\": {\"concentration\": 707.63, \"aqi\": 8}, \"NO2\": {\"concentration\": 2.51, \"aqi\": 3}, \"O3\": {\"concentration\": 43.27, \"aqi\": 36}, \"SO2\": {\"concentration\": 0.16, \"aqi\": 0}, \"PM2.5\": {\"concentration\": 6.94, \"aqi\": 22}, \"PM10\": {\"concentration\": 7.37, \"aqi\": 6}, \"overall_aqi\": 36}\n"
     ]
    }
   ],
   "source": [
    "import requests\n",
    "import os\n",
    "city = 'nepalgunj'\n",
    "api_Key = os.getenv('Api_Key')\n",
    "api_url = 'https://api.api-ninjas.com/v1/airquality?city={}'.format(city)\n",
    "response = requests.get(api_url, headers={'X-Api-Key': api_Key})\n",
    "if response.status_code == requests.codes.ok:\n",
    "    print(response.text)\n",
    "else:\n",
    "    print(\"Error:\", response.status_code, response.text)\n"
   ]
  },
  {
   "cell_type": "code",
   "execution_count": 1,
   "metadata": {},
   "outputs": [],
   "source": [
    "import matplotlib.pyplot as plt\n",
    "%matplotlib inline"
   ]
  },
  {
   "cell_type": "code",
   "execution_count": null,
   "metadata": {},
   "outputs": [],
   "source": []
  }
 ],
 "metadata": {
  "kernelspec": {
   "display_name": "Python 3",
   "language": "python",
   "name": "python3"
  },
  "language_info": {
   "codemirror_mode": {
    "name": "ipython",
    "version": 3
   },
   "file_extension": ".py",
   "mimetype": "text/x-python",
   "name": "python",
   "nbconvert_exporter": "python",
   "pygments_lexer": "ipython3",
   "version": "3.12.1"
  }
 },
 "nbformat": 4,
 "nbformat_minor": 2
}
