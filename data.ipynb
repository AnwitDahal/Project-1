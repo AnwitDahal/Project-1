{
 "cells": [
  {
   "cell_type": "code",
   "execution_count": 6,
   "metadata": {},
   "outputs": [
    {
     "name": "stdout",
     "output_type": "stream",
     "text": [
      "{\"CO\": {\"concentration\": 707.63, \"aqi\": 8}, \"NO2\": {\"concentration\": 5.31, \"aqi\": 6}, \"O3\": {\"concentration\": 19.85, \"aqi\": 16}, \"SO2\": {\"concentration\": 0.29, \"aqi\": 0}, \"PM2.5\": {\"concentration\": 10.45, \"aqi\": 33}, \"PM10\": {\"concentration\": 13.91, \"aqi\": 12}, \"overall_aqi\": 33}\n"
     ]
    }
   ],
   "source": [
    "import requests\n",
    "import os\n",
    "from dotenv import load_dotenv\n",
    "load_dotenv()\n",
    "city = 'nepalgunj'\n",
    "api_Key = os.getenv('Api_Key')\n",
    "api_url = 'https://api.api-ninjas.com/v1/airquality?city={}'.format(city)\n",
    "response = requests.get(api_url, headers={'X-Api-Key': api_Key})\n",
    "if response.status_code == requests.codes.ok:\n",
    "    print(response.text)\n",
    "else:\n",
    "    print(\"Error:\", response.status_code, response.text)\n"
   ]
  },
  {
   "cell_type": "code",
   "execution_count": null,
   "metadata": {},
   "outputs": [],
   "source": []
  }
 ],
 "metadata": {
  "kernelspec": {
   "display_name": "Python 3",
   "language": "python",
   "name": "python3"
  },
  "language_info": {
   "codemirror_mode": {
    "name": "ipython",
    "version": 3
   },
   "file_extension": ".py",
   "mimetype": "text/x-python",
   "name": "python",
   "nbconvert_exporter": "python",
   "pygments_lexer": "ipython3",
   "version": "3.12.1"
  }
 },
 "nbformat": 4,
 "nbformat_minor": 2
}
